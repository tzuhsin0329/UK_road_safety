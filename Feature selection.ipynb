{
 "cells": [
  {
   "cell_type": "markdown",
   "id": "broken-tobago",
   "metadata": {},
   "source": [
    "# Feature selection"
   ]
  },
  {
   "cell_type": "markdown",
   "id": "structural-david",
   "metadata": {},
   "source": [
    "## summary\n",
    "To predict the severity of accident, we have to do the feature selection first. The purpose of feature selection is to get rid of the unuseful data, and remain the data which contains the most information. This procedure can help us eliminate the noise of the data and reduce the computation time."
   ]
  },
  {
   "cell_type": "markdown",
   "id": "catholic-bottle",
   "metadata": {},
   "source": [
    "### 1. Obtaining and Viewing the Data"
   ]
  },
  {
   "cell_type": "code",
   "execution_count": 1,
   "id": "charming-newcastle",
   "metadata": {},
   "outputs": [],
   "source": [
    "# import the toolkits\n",
    "import pandas as pd\n",
    "import numpy as np\n",
    "import glob\n",
    "\n",
    "import matplotlib.pyplot as plt\n",
    "import seaborn as sns\n",
    "\n",
    "from matplotlib.ticker import MaxNLocator\n",
    "from itertools import compress\n",
    "\n",
    "# suppress all warnings\n",
    "import warnings\n",
    "warnings.filterwarnings(\"ignore\")"
   ]
  },
  {
   "cell_type": "markdown",
   "id": "introductory-failing",
   "metadata": {},
   "source": [
    "#### Accident 2015-2019"
   ]
  },
  {
   "cell_type": "code",
   "execution_count": 2,
   "id": "automatic-ancient",
   "metadata": {},
   "outputs": [
    {
     "name": "stdout",
     "output_type": "stream",
     "text": [
      "Records: 646830 \n",
      "Columns: 32\n"
     ]
    },
    {
     "data": {
      "text/html": [
       "<div>\n",
       "<style scoped>\n",
       "    .dataframe tbody tr th:only-of-type {\n",
       "        vertical-align: middle;\n",
       "    }\n",
       "\n",
       "    .dataframe tbody tr th {\n",
       "        vertical-align: top;\n",
       "    }\n",
       "\n",
       "    .dataframe thead th {\n",
       "        text-align: right;\n",
       "    }\n",
       "</style>\n",
       "<table border=\"1\" class=\"dataframe\">\n",
       "  <thead>\n",
       "    <tr style=\"text-align: right;\">\n",
       "      <th></th>\n",
       "      <th>Accident_Index</th>\n",
       "      <th>Location_Easting_OSGR</th>\n",
       "      <th>Location_Northing_OSGR</th>\n",
       "      <th>Longitude</th>\n",
       "      <th>Latitude</th>\n",
       "      <th>Police_Force</th>\n",
       "      <th>Accident_Severity</th>\n",
       "      <th>Number_of_Vehicles</th>\n",
       "      <th>Number_of_Casualties</th>\n",
       "      <th>Date</th>\n",
       "      <th>...</th>\n",
       "      <th>Pedestrian_Crossing-Human_Control</th>\n",
       "      <th>Pedestrian_Crossing-Physical_Facilities</th>\n",
       "      <th>Light_Conditions</th>\n",
       "      <th>Weather_Conditions</th>\n",
       "      <th>Road_Surface_Conditions</th>\n",
       "      <th>Special_Conditions_at_Site</th>\n",
       "      <th>Carriageway_Hazards</th>\n",
       "      <th>Urban_or_Rural_Area</th>\n",
       "      <th>Did_Police_Officer_Attend_Scene_of_Accident</th>\n",
       "      <th>LSOA_of_Accident_Location</th>\n",
       "    </tr>\n",
       "  </thead>\n",
       "  <tbody>\n",
       "    <tr>\n",
       "      <th>0</th>\n",
       "      <td>201501BS70001</td>\n",
       "      <td>525130.0</td>\n",
       "      <td>180050.0</td>\n",
       "      <td>-0.198465</td>\n",
       "      <td>51.505538</td>\n",
       "      <td>1</td>\n",
       "      <td>3</td>\n",
       "      <td>1</td>\n",
       "      <td>1</td>\n",
       "      <td>12/01/2015</td>\n",
       "      <td>...</td>\n",
       "      <td>0</td>\n",
       "      <td>0</td>\n",
       "      <td>4</td>\n",
       "      <td>1</td>\n",
       "      <td>1</td>\n",
       "      <td>0</td>\n",
       "      <td>0</td>\n",
       "      <td>1</td>\n",
       "      <td>1</td>\n",
       "      <td>E01002825</td>\n",
       "    </tr>\n",
       "    <tr>\n",
       "      <th>1</th>\n",
       "      <td>201501BS70002</td>\n",
       "      <td>526530.0</td>\n",
       "      <td>178560.0</td>\n",
       "      <td>-0.178838</td>\n",
       "      <td>51.491836</td>\n",
       "      <td>1</td>\n",
       "      <td>3</td>\n",
       "      <td>1</td>\n",
       "      <td>1</td>\n",
       "      <td>12/01/2015</td>\n",
       "      <td>...</td>\n",
       "      <td>0</td>\n",
       "      <td>0</td>\n",
       "      <td>1</td>\n",
       "      <td>1</td>\n",
       "      <td>1</td>\n",
       "      <td>0</td>\n",
       "      <td>0</td>\n",
       "      <td>1</td>\n",
       "      <td>1</td>\n",
       "      <td>E01002820</td>\n",
       "    </tr>\n",
       "    <tr>\n",
       "      <th>2</th>\n",
       "      <td>201501BS70004</td>\n",
       "      <td>524610.0</td>\n",
       "      <td>181080.0</td>\n",
       "      <td>-0.205590</td>\n",
       "      <td>51.514910</td>\n",
       "      <td>1</td>\n",
       "      <td>3</td>\n",
       "      <td>1</td>\n",
       "      <td>1</td>\n",
       "      <td>12/01/2015</td>\n",
       "      <td>...</td>\n",
       "      <td>0</td>\n",
       "      <td>1</td>\n",
       "      <td>4</td>\n",
       "      <td>2</td>\n",
       "      <td>2</td>\n",
       "      <td>0</td>\n",
       "      <td>0</td>\n",
       "      <td>1</td>\n",
       "      <td>1</td>\n",
       "      <td>E01002833</td>\n",
       "    </tr>\n",
       "  </tbody>\n",
       "</table>\n",
       "<p>3 rows × 32 columns</p>\n",
       "</div>"
      ],
      "text/plain": [
       "  Accident_Index  Location_Easting_OSGR  Location_Northing_OSGR  Longitude  \\\n",
       "0  201501BS70001               525130.0                180050.0  -0.198465   \n",
       "1  201501BS70002               526530.0                178560.0  -0.178838   \n",
       "2  201501BS70004               524610.0                181080.0  -0.205590   \n",
       "\n",
       "    Latitude  Police_Force  Accident_Severity  Number_of_Vehicles  \\\n",
       "0  51.505538             1                  3                   1   \n",
       "1  51.491836             1                  3                   1   \n",
       "2  51.514910             1                  3                   1   \n",
       "\n",
       "   Number_of_Casualties        Date  ...  Pedestrian_Crossing-Human_Control  \\\n",
       "0                     1  12/01/2015  ...                                  0   \n",
       "1                     1  12/01/2015  ...                                  0   \n",
       "2                     1  12/01/2015  ...                                  0   \n",
       "\n",
       "  Pedestrian_Crossing-Physical_Facilities  Light_Conditions  \\\n",
       "0                                       0                 4   \n",
       "1                                       0                 1   \n",
       "2                                       1                 4   \n",
       "\n",
       "  Weather_Conditions  Road_Surface_Conditions  Special_Conditions_at_Site  \\\n",
       "0                  1                        1                           0   \n",
       "1                  1                        1                           0   \n",
       "2                  2                        2                           0   \n",
       "\n",
       "   Carriageway_Hazards  Urban_or_Rural_Area  \\\n",
       "0                    0                    1   \n",
       "1                    0                    1   \n",
       "2                    0                    1   \n",
       "\n",
       "   Did_Police_Officer_Attend_Scene_of_Accident  LSOA_of_Accident_Location  \n",
       "0                                            1                  E01002825  \n",
       "1                                            1                  E01002820  \n",
       "2                                            1                  E01002833  \n",
       "\n",
       "[3 rows x 32 columns]"
      ]
     },
     "execution_count": 2,
     "metadata": {},
     "output_type": "execute_result"
    }
   ],
   "source": [
    "accidents = pd.concat([pd.read_csv(f, compression='zip', \n",
    "                                   low_memory=False) for f in glob.glob('data/*Accidents*.zip')])\n",
    "print('Records:', accidents.shape[0], '\\nColumns:', accidents.shape[1])\n",
    "accidents.head(3)"
   ]
  },
  {
   "cell_type": "markdown",
   "id": "charming-jumping",
   "metadata": {},
   "source": [
    "#### Vehicles 2015-2019"
   ]
  },
  {
   "cell_type": "code",
   "execution_count": 3,
   "id": "corrected-taste",
   "metadata": {},
   "outputs": [
    {
     "name": "stdout",
     "output_type": "stream",
     "text": [
      "Records: 1192061 \n",
      "Columns: 23\n"
     ]
    },
    {
     "data": {
      "text/html": [
       "<div>\n",
       "<style scoped>\n",
       "    .dataframe tbody tr th:only-of-type {\n",
       "        vertical-align: middle;\n",
       "    }\n",
       "\n",
       "    .dataframe tbody tr th {\n",
       "        vertical-align: top;\n",
       "    }\n",
       "\n",
       "    .dataframe thead th {\n",
       "        text-align: right;\n",
       "    }\n",
       "</style>\n",
       "<table border=\"1\" class=\"dataframe\">\n",
       "  <thead>\n",
       "    <tr style=\"text-align: right;\">\n",
       "      <th></th>\n",
       "      <th>1st_Point_of_Impact</th>\n",
       "      <th>Accident_Index</th>\n",
       "      <th>Age_Band_of_Driver</th>\n",
       "      <th>Age_of_Driver</th>\n",
       "      <th>Age_of_Vehicle</th>\n",
       "      <th>Driver_Home_Area_Type</th>\n",
       "      <th>Driver_IMD_Decile</th>\n",
       "      <th>Engine_Capacity_(CC)</th>\n",
       "      <th>Hit_Object_in_Carriageway</th>\n",
       "      <th>Hit_Object_off_Carriageway</th>\n",
       "      <th>...</th>\n",
       "      <th>Sex_of_Driver</th>\n",
       "      <th>Skidding_and_Overturning</th>\n",
       "      <th>Towing_and_Articulation</th>\n",
       "      <th>Vehicle_IMD_Decile</th>\n",
       "      <th>Vehicle_Leaving_Carriageway</th>\n",
       "      <th>Vehicle_Location-Restricted_Lane</th>\n",
       "      <th>Vehicle_Manoeuvre</th>\n",
       "      <th>Vehicle_Reference</th>\n",
       "      <th>Vehicle_Type</th>\n",
       "      <th>Was_Vehicle_Left_Hand_Drive?</th>\n",
       "    </tr>\n",
       "  </thead>\n",
       "  <tbody>\n",
       "    <tr>\n",
       "      <th>0</th>\n",
       "      <td>3</td>\n",
       "      <td>201506E098757</td>\n",
       "      <td>7</td>\n",
       "      <td>45</td>\n",
       "      <td>11</td>\n",
       "      <td>1</td>\n",
       "      <td>-1</td>\n",
       "      <td>1794</td>\n",
       "      <td>0</td>\n",
       "      <td>0</td>\n",
       "      <td>...</td>\n",
       "      <td>1</td>\n",
       "      <td>0</td>\n",
       "      <td>0</td>\n",
       "      <td>-1</td>\n",
       "      <td>0</td>\n",
       "      <td>0</td>\n",
       "      <td>18</td>\n",
       "      <td>2</td>\n",
       "      <td>9</td>\n",
       "      <td>1</td>\n",
       "    </tr>\n",
       "    <tr>\n",
       "      <th>1</th>\n",
       "      <td>4</td>\n",
       "      <td>201506E098766</td>\n",
       "      <td>5</td>\n",
       "      <td>25</td>\n",
       "      <td>1</td>\n",
       "      <td>-1</td>\n",
       "      <td>-1</td>\n",
       "      <td>1582</td>\n",
       "      <td>0</td>\n",
       "      <td>0</td>\n",
       "      <td>...</td>\n",
       "      <td>2</td>\n",
       "      <td>0</td>\n",
       "      <td>0</td>\n",
       "      <td>-1</td>\n",
       "      <td>0</td>\n",
       "      <td>0</td>\n",
       "      <td>9</td>\n",
       "      <td>1</td>\n",
       "      <td>9</td>\n",
       "      <td>1</td>\n",
       "    </tr>\n",
       "    <tr>\n",
       "      <th>2</th>\n",
       "      <td>1</td>\n",
       "      <td>201506E098766</td>\n",
       "      <td>8</td>\n",
       "      <td>51</td>\n",
       "      <td>-1</td>\n",
       "      <td>1</td>\n",
       "      <td>-1</td>\n",
       "      <td>-1</td>\n",
       "      <td>0</td>\n",
       "      <td>0</td>\n",
       "      <td>...</td>\n",
       "      <td>1</td>\n",
       "      <td>0</td>\n",
       "      <td>0</td>\n",
       "      <td>-1</td>\n",
       "      <td>0</td>\n",
       "      <td>0</td>\n",
       "      <td>18</td>\n",
       "      <td>2</td>\n",
       "      <td>9</td>\n",
       "      <td>1</td>\n",
       "    </tr>\n",
       "  </tbody>\n",
       "</table>\n",
       "<p>3 rows × 23 columns</p>\n",
       "</div>"
      ],
      "text/plain": [
       "   1st_Point_of_Impact Accident_Index  Age_Band_of_Driver  Age_of_Driver  \\\n",
       "0                    3  201506E098757                   7             45   \n",
       "1                    4  201506E098766                   5             25   \n",
       "2                    1  201506E098766                   8             51   \n",
       "\n",
       "   Age_of_Vehicle  Driver_Home_Area_Type  Driver_IMD_Decile  \\\n",
       "0              11                      1                 -1   \n",
       "1               1                     -1                 -1   \n",
       "2              -1                      1                 -1   \n",
       "\n",
       "   Engine_Capacity_(CC)  Hit_Object_in_Carriageway  \\\n",
       "0                  1794                          0   \n",
       "1                  1582                          0   \n",
       "2                    -1                          0   \n",
       "\n",
       "   Hit_Object_off_Carriageway  ...  Sex_of_Driver  Skidding_and_Overturning  \\\n",
       "0                           0  ...              1                         0   \n",
       "1                           0  ...              2                         0   \n",
       "2                           0  ...              1                         0   \n",
       "\n",
       "   Towing_and_Articulation  Vehicle_IMD_Decile  Vehicle_Leaving_Carriageway  \\\n",
       "0                        0                  -1                            0   \n",
       "1                        0                  -1                            0   \n",
       "2                        0                  -1                            0   \n",
       "\n",
       "   Vehicle_Location-Restricted_Lane  Vehicle_Manoeuvre  Vehicle_Reference  \\\n",
       "0                                 0                 18                  2   \n",
       "1                                 0                  9                  1   \n",
       "2                                 0                 18                  2   \n",
       "\n",
       "   Vehicle_Type  Was_Vehicle_Left_Hand_Drive?  \n",
       "0             9                             1  \n",
       "1             9                             1  \n",
       "2             9                             1  \n",
       "\n",
       "[3 rows x 23 columns]"
      ]
     },
     "execution_count": 3,
     "metadata": {},
     "output_type": "execute_result"
    }
   ],
   "source": [
    "vehicles = pd.concat([pd.read_csv(f, compression='zip') for f in glob.glob('data/*Vehicles*.zip')], \n",
    "                     sort=True)\n",
    "print('Records:', vehicles.shape[0], '\\nColumns:', vehicles.shape[1])\n",
    "vehicles.head(3)"
   ]
  },
  {
   "cell_type": "markdown",
   "id": "extra-penguin",
   "metadata": {},
   "source": [
    "### 2. Feature selection"
   ]
  },
  {
   "cell_type": "markdown",
   "id": "incident-motion",
   "metadata": {},
   "source": [
    "#### Disposable columns\n",
    "Drop variables that official website didn't explain, couldn't be acquired before the accident happened, and aren't useful. In reality, it is useful to be able to predict severity before an accident happens."
   ]
  },
  {
   "cell_type": "code",
   "execution_count": 4,
   "id": "optimum-variety",
   "metadata": {},
   "outputs": [],
   "source": [
    "# Drop column we don't need\n",
    "accidents = accidents.drop(['Location_Easting_OSGR', 'Location_Northing_OSGR', 'Longitude', \n",
    "                            'Latitude', 'Number_of_Vehicles', 'Number_of_Casualties',\n",
    "                            'Police_Force', 'Local_Authority_(District)', 'Local_Authority_(Highway)',\n",
    "                            '1st_Road_Number', '2nd_Road_Number', 'LSOA_of_Accident_Location',\n",
    "                            'Did_Police_Officer_Attend_Scene_of_Accident'],1)\n",
    "\n",
    "\n",
    "vehicles = vehicles.drop(['Vehicle_Reference', 'Age_Band_of_Driver', 'Driver_Home_Area_Type',\n",
    "                          'Skidding_and_Overturning', 'Hit_Object_in_Carriageway', 'Vehicle_Leaving_Carriageway',\n",
    "                          'Hit_Object_off_Carriageway', '1st_Point_of_Impact'],1)"
   ]
  },
  {
   "cell_type": "code",
   "execution_count": 5,
   "id": "joint-index",
   "metadata": {},
   "outputs": [],
   "source": [
    "# merging data\n",
    "df = pd.merge(accidents, \n",
    "              vehicles,\n",
    "              on='Accident_Index', how='inner')"
   ]
  },
  {
   "cell_type": "markdown",
   "id": "noted-calculator",
   "metadata": {},
   "source": [
    "#### Handling missing value\n",
    "The data contain some informations that are lost, this would affect the result of prediction. I drop the variables contain more\n",
    "than 30% of missing value and the samples which contain any of missing data."
   ]
  },
  {
   "cell_type": "code",
   "execution_count": 6,
   "id": "congressional-corrections",
   "metadata": {
    "scrolled": true
   },
   "outputs": [
    {
     "name": "stdout",
     "output_type": "stream",
     "text": [
      "column has been dropped:  Junction_Control\n",
      "column has been dropped:  2nd_Road_Class\n",
      "column has been dropped:  Driver_IMD_Decile\n",
      "column has been dropped:  Vehicle_IMD_Decile\n",
      "<class 'pandas.core.frame.DataFrame'>\n",
      "Int64Index: 676042 entries, 2 to 1028220\n",
      "Data columns (total 29 columns):\n",
      " #   Column                                   Non-Null Count   Dtype  \n",
      "---  ------                                   --------------   -----  \n",
      " 0   Accident_Index                           676042 non-null  object \n",
      " 1   Accident_Severity                        676042 non-null  int64  \n",
      " 2   Date                                     676042 non-null  object \n",
      " 3   Day_of_Week                              676042 non-null  int64  \n",
      " 4   Time                                     676042 non-null  object \n",
      " 5   1st_Road_Class                           676042 non-null  int64  \n",
      " 6   Road_Type                                676042 non-null  float64\n",
      " 7   Speed_limit                              676042 non-null  float64\n",
      " 8   Junction_Detail                          676042 non-null  float64\n",
      " 9   Pedestrian_Crossing-Human_Control        676042 non-null  float64\n",
      " 10  Pedestrian_Crossing-Physical_Facilities  676042 non-null  float64\n",
      " 11  Light_Conditions                         676042 non-null  float64\n",
      " 12  Weather_Conditions                       676042 non-null  float64\n",
      " 13  Road_Surface_Conditions                  676042 non-null  float64\n",
      " 14  Special_Conditions_at_Site               676042 non-null  float64\n",
      " 15  Carriageway_Hazards                      676042 non-null  float64\n",
      " 16  Urban_or_Rural_Area                      676042 non-null  float64\n",
      " 17  Age_of_Driver                            676042 non-null  float64\n",
      " 18  Age_of_Vehicle                           676042 non-null  float64\n",
      " 19  Engine_Capacity_(CC)                     676042 non-null  float64\n",
      " 20  Journey_Purpose_of_Driver                676042 non-null  float64\n",
      " 21  Junction_Location                        676042 non-null  float64\n",
      " 22  Propulsion_Code                          676042 non-null  float64\n",
      " 23  Sex_of_Driver                            676042 non-null  float64\n",
      " 24  Towing_and_Articulation                  676042 non-null  float64\n",
      " 25  Vehicle_Location-Restricted_Lane         676042 non-null  float64\n",
      " 26  Vehicle_Manoeuvre                        676042 non-null  float64\n",
      " 27  Vehicle_Type                             676042 non-null  float64\n",
      " 28  Was_Vehicle_Left_Hand_Drive?             676042 non-null  float64\n",
      "dtypes: float64(23), int64(3), object(3)\n",
      "memory usage: 154.7+ MB\n"
     ]
    }
   ],
   "source": [
    "# Handling missing value\n",
    "for column in df.columns:\n",
    "    missing_number = (df[column] == -1).sum()\n",
    "    sum_of_number = df[column].shape[0]\n",
    "    if (missing_number/sum_of_number) > 0.3:\n",
    "        df.drop([column], 1, inplace=True)\n",
    "        print('column has been dropped: ' ,column)\n",
    "        \n",
    "df = df.replace(-1, np.NaN)\n",
    "df = df.dropna()\n",
    "df.info()"
   ]
  },
  {
   "cell_type": "markdown",
   "id": "looking-polymer",
   "metadata": {},
   "source": [
    "#### VarianceThreshold \n",
    "In feature selection field, the feature with 0 variance is unuseful, beacuase the values are all the same. And only the feature that have a certain number of varaince can help to improve model. Here, I use VarianceThreshold from sklearn to drop feature whose variance less than 0.2."
   ]
  },
  {
   "cell_type": "code",
   "execution_count": 7,
   "id": "colored-number",
   "metadata": {},
   "outputs": [],
   "source": [
    "from sklearn.feature_selection import VarianceThreshold"
   ]
  },
  {
   "cell_type": "code",
   "execution_count": 8,
   "id": "conservative-diameter",
   "metadata": {},
   "outputs": [],
   "source": [
    "# seperate data type\n",
    "goal_col = ['Accident_Index', 'Accident_Severity']\n",
    "\n",
    "datetime_col = ['Date', 'Time']\n",
    "\n",
    "num_col = ['Age_of_Driver', 'Age_of_Vehicle', 'Engine_Capacity_(CC)']\n",
    "\n",
    "cat_col = [x for x in list(df.columns) if x not in goal_col+datetime_col+num_col]"
   ]
  },
  {
   "cell_type": "code",
   "execution_count": 9,
   "id": "dynamic-sydney",
   "metadata": {},
   "outputs": [
    {
     "name": "stdout",
     "output_type": "stream",
     "text": [
      "low variance columns: ['Pedestrian_Crossing-Human_Control', 'Towing_and_Articulation', 'Was_Vehicle_Left_Hand_Drive?']\n"
     ]
    }
   ],
   "source": [
    "# find the variable whose varience is too low \n",
    "threshold = 0.2\n",
    "df_var = df[num_col + cat_col]\n",
    "sel = VarianceThreshold(threshold)\n",
    "sel.fit_transform(df_var)\n",
    "low_variance_list = df_var.columns[~sel.get_support()].tolist()\n",
    "\n",
    "print('low variance columns:', low_variance_list)"
   ]
  },
  {
   "cell_type": "code",
   "execution_count": 10,
   "id": "detailed-filename",
   "metadata": {},
   "outputs": [],
   "source": [
    "# drop features\n",
    "cat_col = [x for x in cat_col if x not in low_variance_list]"
   ]
  },
  {
   "cell_type": "code",
   "execution_count": 11,
   "id": "revised-optimization",
   "metadata": {},
   "outputs": [
    {
     "data": {
      "text/plain": [
       "19"
      ]
     },
     "execution_count": 11,
     "metadata": {},
     "output_type": "execute_result"
    }
   ],
   "source": [
    "len(cat_col)"
   ]
  },
  {
   "cell_type": "markdown",
   "id": "south-vanilla",
   "metadata": {},
   "source": [
    "#### Pearson's correlation in numerical features"
   ]
  },
  {
   "cell_type": "markdown",
   "id": "wound-branch",
   "metadata": {},
   "source": [
    "Find numerical features that are highly correlated. If they were, we should choose only one of it. Result shows that there are no multicollinearity (no coefficient above 0.5)."
   ]
  },
  {
   "cell_type": "code",
   "execution_count": 12,
   "id": "professional-nomination",
   "metadata": {},
   "outputs": [
    {
     "data": {
      "text/plain": [
       "<AxesSubplot:>"
      ]
     },
     "execution_count": 12,
     "metadata": {},
     "output_type": "execute_result"
    },
    {
     "data": {
      "image/png": "[encoded data removed]",
      "text/plain": [
       "<Figure size 432x288 with 2 Axes>"
      ]
     },
     "metadata": {
      "needs_background": "light"
     },
     "output_type": "display_data"
    }
   ],
   "source": [
    "sns.heatmap(df[num_col].corr(), cmap=\"Blues\")"
   ]
  },
  {
   "cell_type": "code",
   "execution_count": 19,
   "id": "whole-bikini",
   "metadata": {},
   "outputs": [
    {
     "data": {
      "text/html": [
       "<div>\n",
       "<style scoped>\n",
       "    .dataframe tbody tr th:only-of-type {\n",
       "        vertical-align: middle;\n",
       "    }\n",
       "\n",
       "    .dataframe tbody tr th {\n",
       "        vertical-align: top;\n",
       "    }\n",
       "\n",
       "    .dataframe thead th {\n",
       "        text-align: right;\n",
       "    }\n",
       "</style>\n",
       "<table border=\"1\" class=\"dataframe\">\n",
       "  <thead>\n",
       "    <tr style=\"text-align: right;\">\n",
       "      <th></th>\n",
       "      <th>Age_of_Driver</th>\n",
       "      <th>Age_of_Vehicle</th>\n",
       "      <th>Engine_Capacity_(CC)</th>\n",
       "    </tr>\n",
       "  </thead>\n",
       "  <tbody>\n",
       "    <tr>\n",
       "      <th>Age_of_Driver</th>\n",
       "      <td>1.000000</td>\n",
       "      <td>-0.008347</td>\n",
       "      <td>0.108701</td>\n",
       "    </tr>\n",
       "    <tr>\n",
       "      <th>Age_of_Vehicle</th>\n",
       "      <td>-0.008347</td>\n",
       "      <td>1.000000</td>\n",
       "      <td>-0.051534</td>\n",
       "    </tr>\n",
       "    <tr>\n",
       "      <th>Engine_Capacity_(CC)</th>\n",
       "      <td>0.108701</td>\n",
       "      <td>-0.051534</td>\n",
       "      <td>1.000000</td>\n",
       "    </tr>\n",
       "  </tbody>\n",
       "</table>\n",
       "</div>"
      ],
      "text/plain": [
       "                      Age_of_Driver  Age_of_Vehicle  Engine_Capacity_(CC)\n",
       "Age_of_Driver              1.000000       -0.008347              0.108701\n",
       "Age_of_Vehicle            -0.008347        1.000000             -0.051534\n",
       "Engine_Capacity_(CC)       0.108701       -0.051534              1.000000"
      ]
     },
     "execution_count": 19,
     "metadata": {},
     "output_type": "execute_result"
    }
   ],
   "source": [
    "df[num_col].corr()"
   ]
  },
  {
   "cell_type": "markdown",
   "id": "preceding-kingdom",
   "metadata": {},
   "source": [
    "#### Chi-square method for categorical features"
   ]
  },
  {
   "cell_type": "markdown",
   "id": "occasional-prerequisite",
   "metadata": {},
   "source": [
    "Use Chi-square scores to select categorical features, the higher the scores means the feature is more relevant to target. \n",
    "To set the threshold of scores, I calculate the gradients of ordered nearby scores, the first highest gradient means that \n",
    "the features before it are way too much relevant."
   ]
  },
  {
   "cell_type": "code",
   "execution_count": 13,
   "id": "generic-missouri",
   "metadata": {},
   "outputs": [],
   "source": [
    "# import functions\n",
    "from sklearn.feature_selection import SelectKBest\n",
    "from sklearn.feature_selection import chi2"
   ]
  },
  {
   "cell_type": "code",
   "execution_count": 14,
   "id": "together-likelihood",
   "metadata": {},
   "outputs": [],
   "source": [
    "# define feature selection\n",
    "fs = SelectKBest(score_func=chi2, k='all')\n",
    "# apply feature selection\n",
    "fs.fit(df[cat_col], df['Accident_Severity'])\n",
    "score = np.sort(fs.scores_)"
   ]
  },
  {
   "cell_type": "code",
   "execution_count": 15,
   "id": "bearing-giant",
   "metadata": {},
   "outputs": [
    {
     "data": {
      "image/png": "[encoded data removed]",
      "text/plain": [
       "<Figure size 1080x360 with 2 Axes>"
      ]
     },
     "metadata": {
      "needs_background": "light"
     },
     "output_type": "display_data"
    }
   ],
   "source": [
    "# plot ordered scores\n",
    "f, axes = plt.subplots(1, 2, figsize=(15,5))\n",
    "axes[0].plot(score)\n",
    "axes[0].xaxis.set_major_locator(MaxNLocator(integer=True))\n",
    "axes[0].set_title('Scores')\n",
    "axes[0].grid()\n",
    "sns.boxplot(orient='h', data=score, ax=axes[1])\n",
    "axes[1].set_title('Outlier of scores')\n",
    "axes[1].grid()"
   ]
  },
  {
   "cell_type": "code",
   "execution_count": 16,
   "id": "controversial-acquisition",
   "metadata": {},
   "outputs": [],
   "source": [
    "# drop value over 10000\n",
    "score = score[score < 10000]"
   ]
  },
  {
   "cell_type": "code",
   "execution_count": 17,
   "id": "brutal-portrait",
   "metadata": {},
   "outputs": [
    {
     "data": {
      "image/png": "[encoded data removed]",
      "text/plain": [
       "<Figure size 1080x360 with 2 Axes>"
      ]
     },
     "metadata": {
      "needs_background": "light"
     },
     "output_type": "display_data"
    }
   ],
   "source": [
    "# plot ordered scores\n",
    "f, axes = plt.subplots(1, 2, figsize=(15,5))\n",
    "axes[0].plot(np.arange(1,18), score)\n",
    "axes[0].xaxis.set_major_locator(MaxNLocator(integer=True))\n",
    "axes[0].set_title('Scores')\n",
    "axes[0].grid()\n",
    "# calcaulate the gradient of nearby features\n",
    "score_diff = np.diff(score)\n",
    "\n",
    "# plot gradient scores\n",
    "bar = axes[1].bar(np.arange(1,17), score_diff)\n",
    "bar[6].set_color('lightsteelblue')\n",
    "axes[1].set_title('Line gradient of nearby scores')\n",
    "axes[1].grid()"
   ]
  },
  {
   "cell_type": "code",
   "execution_count": 18,
   "id": "lucky-drove",
   "metadata": {},
   "outputs": [
    {
     "data": {
      "text/plain": [
       "['1st_Road_Class',\n",
       " 'Road_Type',\n",
       " 'Speed_limit',\n",
       " 'Junction_Detail',\n",
       " 'Pedestrian_Crossing-Physical_Facilities',\n",
       " 'Light_Conditions',\n",
       " 'Urban_or_Rural_Area',\n",
       " 'Junction_Location',\n",
       " 'Sex_of_Driver',\n",
       " 'Vehicle_Location-Restricted_Lane',\n",
       " 'Vehicle_Manoeuvre',\n",
       " 'Vehicle_Type']"
      ]
     },
     "execution_count": 18,
     "metadata": {},
     "output_type": "execute_result"
    }
   ],
   "source": [
    "# define feature selection\n",
    "fs = SelectKBest(score_func=chi2, k=12)\n",
    "# apply feature selection\n",
    "fs.fit(df[cat_col], df['Accident_Severity'])\n",
    "cat_col = list(compress(cat_col, fs.get_support()))\n",
    "\n",
    "cat_col"
   ]
  }
 ],
 "metadata": {
  "kernelspec": {
   "display_name": "Python 3",
   "language": "python",
   "name": "python3"
  },
  "language_info": {
   "codemirror_mode": {
    "name": "ipython",
    "version": 3
   },
   "file_extension": ".py",
   "mimetype": "text/x-python",
   "name": "python",
   "nbconvert_exporter": "python",
   "pygments_lexer": "ipython3",
   "version": "3.6.5"
  }
 },
 "nbformat": 4,
 "nbformat_minor": 5
}
