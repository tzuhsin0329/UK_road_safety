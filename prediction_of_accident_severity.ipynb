{
 "cells": [
  {
   "cell_type": "markdown",
   "id": "historical-philadelphia",
   "metadata": {},
   "source": [
    "#  Prediction of accident severity in UK"
   ]
  },
  {
   "cell_type": "markdown",
   "id": "central-romance",
   "metadata": {},
   "source": [
    "### Summary\n",
    "this prediction used the data from https://data.gov.uk/dataset/cb7ae6f0-4be6-4935-9277-47e5ce24a11f/road-safety-data, \n",
    "including accident circumstances, vehicle conditions, using 2015 ~ 2019 data. I excluded casaulties data and some of the accident, vehicle data that wasn't aquired before the accident happened."
   ]
  },
  {
   "cell_type": "markdown",
   "id": "unlimited-chester",
   "metadata": {},
   "source": [
    "## 1. Obtaining and Viewing the Data"
   ]
  },
  {
   "cell_type": "code",
   "execution_count": 1,
   "id": "whole-stuart",
   "metadata": {},
   "outputs": [],
   "source": [
    "# import the toolkits\n",
    "import pandas as pd\n",
    "import numpy as np\n",
    "import glob\n",
    "\n",
    "import matplotlib.pyplot as plt\n",
    "import seaborn as sns\n",
    "\n",
    "# suppress all warnings\n",
    "import warnings\n",
    "warnings.filterwarnings(\"ignore\")"
   ]
  },
  {
   "cell_type": "markdown",
   "id": "resident-northern",
   "metadata": {},
   "source": [
    "#### Accident 2015-2019"
   ]
  },
  {
   "cell_type": "code",
   "execution_count": 2,
   "id": "welcome-resistance",
   "metadata": {},
   "outputs": [
    {
     "name": "stdout",
     "output_type": "stream",
     "text": [
      "Records: 646830 \n",
      "Columns: 32\n"
     ]
    },
    {
     "data": {
      "text/html": [
       "<div>\n",
       "<style scoped>\n",
       "    .dataframe tbody tr th:only-of-type {\n",
       "        vertical-align: middle;\n",
       "    }\n",
       "\n",
       "    .dataframe tbody tr th {\n",
       "        vertical-align: top;\n",
       "    }\n",
       "\n",
       "    .dataframe thead th {\n",
       "        text-align: right;\n",
       "    }\n",
       "</style>\n",
       "<table border=\"1\" class=\"dataframe\">\n",
       "  <thead>\n",
       "    <tr style=\"text-align: right;\">\n",
       "      <th></th>\n",
       "      <th>Accident_Index</th>\n",
       "      <th>Location_Easting_OSGR</th>\n",
       "      <th>Location_Northing_OSGR</th>\n",
       "      <th>Longitude</th>\n",
       "      <th>Latitude</th>\n",
       "      <th>Police_Force</th>\n",
       "      <th>Accident_Severity</th>\n",
       "      <th>Number_of_Vehicles</th>\n",
       "      <th>Number_of_Casualties</th>\n",
       "      <th>Date</th>\n",
       "      <th>...</th>\n",
       "      <th>Pedestrian_Crossing-Human_Control</th>\n",
       "      <th>Pedestrian_Crossing-Physical_Facilities</th>\n",
       "      <th>Light_Conditions</th>\n",
       "      <th>Weather_Conditions</th>\n",
       "      <th>Road_Surface_Conditions</th>\n",
       "      <th>Special_Conditions_at_Site</th>\n",
       "      <th>Carriageway_Hazards</th>\n",
       "      <th>Urban_or_Rural_Area</th>\n",
       "      <th>Did_Police_Officer_Attend_Scene_of_Accident</th>\n",
       "      <th>LSOA_of_Accident_Location</th>\n",
       "    </tr>\n",
       "  </thead>\n",
       "  <tbody>\n",
       "    <tr>\n",
       "      <th>0</th>\n",
       "      <td>201501BS70001</td>\n",
       "      <td>525130.0</td>\n",
       "      <td>180050.0</td>\n",
       "      <td>-0.198465</td>\n",
       "      <td>51.505538</td>\n",
       "      <td>1</td>\n",
       "      <td>3</td>\n",
       "      <td>1</td>\n",
       "      <td>1</td>\n",
       "      <td>12/01/2015</td>\n",
       "      <td>...</td>\n",
       "      <td>0</td>\n",
       "      <td>0</td>\n",
       "      <td>4</td>\n",
       "      <td>1</td>\n",
       "      <td>1</td>\n",
       "      <td>0</td>\n",
       "      <td>0</td>\n",
       "      <td>1</td>\n",
       "      <td>1</td>\n",
       "      <td>E01002825</td>\n",
       "    </tr>\n",
       "    <tr>\n",
       "      <th>1</th>\n",
       "      <td>201501BS70002</td>\n",
       "      <td>526530.0</td>\n",
       "      <td>178560.0</td>\n",
       "      <td>-0.178838</td>\n",
       "      <td>51.491836</td>\n",
       "      <td>1</td>\n",
       "      <td>3</td>\n",
       "      <td>1</td>\n",
       "      <td>1</td>\n",
       "      <td>12/01/2015</td>\n",
       "      <td>...</td>\n",
       "      <td>0</td>\n",
       "      <td>0</td>\n",
       "      <td>1</td>\n",
       "      <td>1</td>\n",
       "      <td>1</td>\n",
       "      <td>0</td>\n",
       "      <td>0</td>\n",
       "      <td>1</td>\n",
       "      <td>1</td>\n",
       "      <td>E01002820</td>\n",
       "    </tr>\n",
       "    <tr>\n",
       "      <th>2</th>\n",
       "      <td>201501BS70004</td>\n",
       "      <td>524610.0</td>\n",
       "      <td>181080.0</td>\n",
       "      <td>-0.205590</td>\n",
       "      <td>51.514910</td>\n",
       "      <td>1</td>\n",
       "      <td>3</td>\n",
       "      <td>1</td>\n",
       "      <td>1</td>\n",
       "      <td>12/01/2015</td>\n",
       "      <td>...</td>\n",
       "      <td>0</td>\n",
       "      <td>1</td>\n",
       "      <td>4</td>\n",
       "      <td>2</td>\n",
       "      <td>2</td>\n",
       "      <td>0</td>\n",
       "      <td>0</td>\n",
       "      <td>1</td>\n",
       "      <td>1</td>\n",
       "      <td>E01002833</td>\n",
       "    </tr>\n",
       "  </tbody>\n",
       "</table>\n",
       "<p>3 rows × 32 columns</p>\n",
       "</div>"
      ],
      "text/plain": [
       "  Accident_Index  Location_Easting_OSGR  Location_Northing_OSGR  Longitude  \\\n",
       "0  201501BS70001               525130.0                180050.0  -0.198465   \n",
       "1  201501BS70002               526530.0                178560.0  -0.178838   \n",
       "2  201501BS70004               524610.0                181080.0  -0.205590   \n",
       "\n",
       "    Latitude  Police_Force  Accident_Severity  Number_of_Vehicles  \\\n",
       "0  51.505538             1                  3                   1   \n",
       "1  51.491836             1                  3                   1   \n",
       "2  51.514910             1                  3                   1   \n",
       "\n",
       "   Number_of_Casualties        Date  ...  Pedestrian_Crossing-Human_Control  \\\n",
       "0                     1  12/01/2015  ...                                  0   \n",
       "1                     1  12/01/2015  ...                                  0   \n",
       "2                     1  12/01/2015  ...                                  0   \n",
       "\n",
       "  Pedestrian_Crossing-Physical_Facilities  Light_Conditions  \\\n",
       "0                                       0                 4   \n",
       "1                                       0                 1   \n",
       "2                                       1                 4   \n",
       "\n",
       "  Weather_Conditions  Road_Surface_Conditions  Special_Conditions_at_Site  \\\n",
       "0                  1                        1                           0   \n",
       "1                  1                        1                           0   \n",
       "2                  2                        2                           0   \n",
       "\n",
       "   Carriageway_Hazards  Urban_or_Rural_Area  \\\n",
       "0                    0                    1   \n",
       "1                    0                    1   \n",
       "2                    0                    1   \n",
       "\n",
       "   Did_Police_Officer_Attend_Scene_of_Accident  LSOA_of_Accident_Location  \n",
       "0                                            1                  E01002825  \n",
       "1                                            1                  E01002820  \n",
       "2                                            1                  E01002833  \n",
       "\n",
       "[3 rows x 32 columns]"
      ]
     },
     "execution_count": 2,
     "metadata": {},
     "output_type": "execute_result"
    }
   ],
   "source": [
    "accidents = pd.concat([pd.read_csv(f, compression='zip', \n",
    "                                   low_memory=False) for f in glob.glob('data/*Accidents*.zip')])\n",
    "print('Records:', accidents.shape[0], '\\nColumns:', accidents.shape[1])\n",
    "accidents.head(3)"
   ]
  },
  {
   "cell_type": "markdown",
   "id": "daily-cattle",
   "metadata": {},
   "source": [
    "#### Casualties 2015-2019"
   ]
  },
  {
   "cell_type": "code",
   "execution_count": 3,
   "id": "romance-backing",
   "metadata": {
    "scrolled": true
   },
   "outputs": [
    {
     "name": "stdout",
     "output_type": "stream",
     "text": [
      "Records: 852321 \n",
      "Columns: 16\n"
     ]
    },
    {
     "data": {
      "text/html": [
       "<div>\n",
       "<style scoped>\n",
       "    .dataframe tbody tr th:only-of-type {\n",
       "        vertical-align: middle;\n",
       "    }\n",
       "\n",
       "    .dataframe tbody tr th {\n",
       "        vertical-align: top;\n",
       "    }\n",
       "\n",
       "    .dataframe thead th {\n",
       "        text-align: right;\n",
       "    }\n",
       "</style>\n",
       "<table border=\"1\" class=\"dataframe\">\n",
       "  <thead>\n",
       "    <tr style=\"text-align: right;\">\n",
       "      <th></th>\n",
       "      <th>Accident_Index</th>\n",
       "      <th>Age_Band_of_Casualty</th>\n",
       "      <th>Age_of_Casualty</th>\n",
       "      <th>Bus_or_Coach_Passenger</th>\n",
       "      <th>Car_Passenger</th>\n",
       "      <th>Casualty_Class</th>\n",
       "      <th>Casualty_Home_Area_Type</th>\n",
       "      <th>Casualty_IMD_Decile</th>\n",
       "      <th>Casualty_Reference</th>\n",
       "      <th>Casualty_Severity</th>\n",
       "      <th>Casualty_Type</th>\n",
       "      <th>Pedestrian_Location</th>\n",
       "      <th>Pedestrian_Movement</th>\n",
       "      <th>Pedestrian_Road_Maintenance_Worker</th>\n",
       "      <th>Sex_of_Casualty</th>\n",
       "      <th>Vehicle_Reference</th>\n",
       "    </tr>\n",
       "  </thead>\n",
       "  <tbody>\n",
       "    <tr>\n",
       "      <th>0</th>\n",
       "      <td>201597UA71710</td>\n",
       "      <td>10</td>\n",
       "      <td>75</td>\n",
       "      <td>0</td>\n",
       "      <td>0</td>\n",
       "      <td>1</td>\n",
       "      <td>3</td>\n",
       "      <td>-1</td>\n",
       "      <td>1</td>\n",
       "      <td>3</td>\n",
       "      <td>9</td>\n",
       "      <td>0</td>\n",
       "      <td>0</td>\n",
       "      <td>0</td>\n",
       "      <td>2</td>\n",
       "      <td>2</td>\n",
       "    </tr>\n",
       "    <tr>\n",
       "      <th>1</th>\n",
       "      <td>201597UA71810</td>\n",
       "      <td>9</td>\n",
       "      <td>63</td>\n",
       "      <td>4</td>\n",
       "      <td>0</td>\n",
       "      <td>2</td>\n",
       "      <td>3</td>\n",
       "      <td>-1</td>\n",
       "      <td>1</td>\n",
       "      <td>2</td>\n",
       "      <td>11</td>\n",
       "      <td>0</td>\n",
       "      <td>0</td>\n",
       "      <td>0</td>\n",
       "      <td>2</td>\n",
       "      <td>2</td>\n",
       "    </tr>\n",
       "    <tr>\n",
       "      <th>2</th>\n",
       "      <td>201597UA71810</td>\n",
       "      <td>10</td>\n",
       "      <td>75</td>\n",
       "      <td>4</td>\n",
       "      <td>0</td>\n",
       "      <td>2</td>\n",
       "      <td>1</td>\n",
       "      <td>-1</td>\n",
       "      <td>2</td>\n",
       "      <td>2</td>\n",
       "      <td>11</td>\n",
       "      <td>0</td>\n",
       "      <td>0</td>\n",
       "      <td>0</td>\n",
       "      <td>2</td>\n",
       "      <td>2</td>\n",
       "    </tr>\n",
       "  </tbody>\n",
       "</table>\n",
       "</div>"
      ],
      "text/plain": [
       "  Accident_Index  Age_Band_of_Casualty  Age_of_Casualty  \\\n",
       "0  201597UA71710                    10               75   \n",
       "1  201597UA71810                     9               63   \n",
       "2  201597UA71810                    10               75   \n",
       "\n",
       "   Bus_or_Coach_Passenger  Car_Passenger  Casualty_Class  \\\n",
       "0                       0              0               1   \n",
       "1                       4              0               2   \n",
       "2                       4              0               2   \n",
       "\n",
       "   Casualty_Home_Area_Type  Casualty_IMD_Decile  Casualty_Reference  \\\n",
       "0                        3                   -1                   1   \n",
       "1                        3                   -1                   1   \n",
       "2                        1                   -1                   2   \n",
       "\n",
       "   Casualty_Severity  Casualty_Type  Pedestrian_Location  Pedestrian_Movement  \\\n",
       "0                  3              9                    0                    0   \n",
       "1                  2             11                    0                    0   \n",
       "2                  2             11                    0                    0   \n",
       "\n",
       "   Pedestrian_Road_Maintenance_Worker  Sex_of_Casualty  Vehicle_Reference  \n",
       "0                                   0                2                  2  \n",
       "1                                   0                2                  2  \n",
       "2                                   0                2                  2  "
      ]
     },
     "execution_count": 3,
     "metadata": {},
     "output_type": "execute_result"
    }
   ],
   "source": [
    "casualties = pd.concat([pd.read_csv(f, compression='zip') for f in glob.glob('data/*Casualties*.zip')], \n",
    "                       sort=True)\n",
    "print('Records:', casualties.shape[0], '\\nColumns:', casualties.shape[1])\n",
    "casualties.head(3)"
   ]
  },
  {
   "cell_type": "markdown",
   "id": "quality-cement",
   "metadata": {},
   "source": [
    "#### Vehicles 2015-2019"
   ]
  },
  {
   "cell_type": "code",
   "execution_count": 4,
   "id": "scenic-failure",
   "metadata": {
    "scrolled": true
   },
   "outputs": [
    {
     "name": "stdout",
     "output_type": "stream",
     "text": [
      "Records: 1192061 \n",
      "Columns: 23\n"
     ]
    },
    {
     "data": {
      "text/html": [
       "<div>\n",
       "<style scoped>\n",
       "    .dataframe tbody tr th:only-of-type {\n",
       "        vertical-align: middle;\n",
       "    }\n",
       "\n",
       "    .dataframe tbody tr th {\n",
       "        vertical-align: top;\n",
       "    }\n",
       "\n",
       "    .dataframe thead th {\n",
       "        text-align: right;\n",
       "    }\n",
       "</style>\n",
       "<table border=\"1\" class=\"dataframe\">\n",
       "  <thead>\n",
       "    <tr style=\"text-align: right;\">\n",
       "      <th></th>\n",
       "      <th>1st_Point_of_Impact</th>\n",
       "      <th>Accident_Index</th>\n",
       "      <th>Age_Band_of_Driver</th>\n",
       "      <th>Age_of_Driver</th>\n",
       "      <th>Age_of_Vehicle</th>\n",
       "      <th>Driver_Home_Area_Type</th>\n",
       "      <th>Driver_IMD_Decile</th>\n",
       "      <th>Engine_Capacity_(CC)</th>\n",
       "      <th>Hit_Object_in_Carriageway</th>\n",
       "      <th>Hit_Object_off_Carriageway</th>\n",
       "      <th>...</th>\n",
       "      <th>Sex_of_Driver</th>\n",
       "      <th>Skidding_and_Overturning</th>\n",
       "      <th>Towing_and_Articulation</th>\n",
       "      <th>Vehicle_IMD_Decile</th>\n",
       "      <th>Vehicle_Leaving_Carriageway</th>\n",
       "      <th>Vehicle_Location-Restricted_Lane</th>\n",
       "      <th>Vehicle_Manoeuvre</th>\n",
       "      <th>Vehicle_Reference</th>\n",
       "      <th>Vehicle_Type</th>\n",
       "      <th>Was_Vehicle_Left_Hand_Drive?</th>\n",
       "    </tr>\n",
       "  </thead>\n",
       "  <tbody>\n",
       "    <tr>\n",
       "      <th>0</th>\n",
       "      <td>3</td>\n",
       "      <td>201506E098757</td>\n",
       "      <td>7</td>\n",
       "      <td>45</td>\n",
       "      <td>11</td>\n",
       "      <td>1</td>\n",
       "      <td>-1</td>\n",
       "      <td>1794</td>\n",
       "      <td>0</td>\n",
       "      <td>0</td>\n",
       "      <td>...</td>\n",
       "      <td>1</td>\n",
       "      <td>0</td>\n",
       "      <td>0</td>\n",
       "      <td>-1</td>\n",
       "      <td>0</td>\n",
       "      <td>0</td>\n",
       "      <td>18</td>\n",
       "      <td>2</td>\n",
       "      <td>9</td>\n",
       "      <td>1</td>\n",
       "    </tr>\n",
       "    <tr>\n",
       "      <th>1</th>\n",
       "      <td>4</td>\n",
       "      <td>201506E098766</td>\n",
       "      <td>5</td>\n",
       "      <td>25</td>\n",
       "      <td>1</td>\n",
       "      <td>-1</td>\n",
       "      <td>-1</td>\n",
       "      <td>1582</td>\n",
       "      <td>0</td>\n",
       "      <td>0</td>\n",
       "      <td>...</td>\n",
       "      <td>2</td>\n",
       "      <td>0</td>\n",
       "      <td>0</td>\n",
       "      <td>-1</td>\n",
       "      <td>0</td>\n",
       "      <td>0</td>\n",
       "      <td>9</td>\n",
       "      <td>1</td>\n",
       "      <td>9</td>\n",
       "      <td>1</td>\n",
       "    </tr>\n",
       "    <tr>\n",
       "      <th>2</th>\n",
       "      <td>1</td>\n",
       "      <td>201506E098766</td>\n",
       "      <td>8</td>\n",
       "      <td>51</td>\n",
       "      <td>-1</td>\n",
       "      <td>1</td>\n",
       "      <td>-1</td>\n",
       "      <td>-1</td>\n",
       "      <td>0</td>\n",
       "      <td>0</td>\n",
       "      <td>...</td>\n",
       "      <td>1</td>\n",
       "      <td>0</td>\n",
       "      <td>0</td>\n",
       "      <td>-1</td>\n",
       "      <td>0</td>\n",
       "      <td>0</td>\n",
       "      <td>18</td>\n",
       "      <td>2</td>\n",
       "      <td>9</td>\n",
       "      <td>1</td>\n",
       "    </tr>\n",
       "  </tbody>\n",
       "</table>\n",
       "<p>3 rows × 23 columns</p>\n",
       "</div>"
      ],
      "text/plain": [
       "   1st_Point_of_Impact Accident_Index  Age_Band_of_Driver  Age_of_Driver  \\\n",
       "0                    3  201506E098757                   7             45   \n",
       "1                    4  201506E098766                   5             25   \n",
       "2                    1  201506E098766                   8             51   \n",
       "\n",
       "   Age_of_Vehicle  Driver_Home_Area_Type  Driver_IMD_Decile  \\\n",
       "0              11                      1                 -1   \n",
       "1               1                     -1                 -1   \n",
       "2              -1                      1                 -1   \n",
       "\n",
       "   Engine_Capacity_(CC)  Hit_Object_in_Carriageway  \\\n",
       "0                  1794                          0   \n",
       "1                  1582                          0   \n",
       "2                    -1                          0   \n",
       "\n",
       "   Hit_Object_off_Carriageway  ...  Sex_of_Driver  Skidding_and_Overturning  \\\n",
       "0                           0  ...              1                         0   \n",
       "1                           0  ...              2                         0   \n",
       "2                           0  ...              1                         0   \n",
       "\n",
       "   Towing_and_Articulation  Vehicle_IMD_Decile  Vehicle_Leaving_Carriageway  \\\n",
       "0                        0                  -1                            0   \n",
       "1                        0                  -1                            0   \n",
       "2                        0                  -1                            0   \n",
       "\n",
       "   Vehicle_Location-Restricted_Lane  Vehicle_Manoeuvre  Vehicle_Reference  \\\n",
       "0                                 0                 18                  2   \n",
       "1                                 0                  9                  1   \n",
       "2                                 0                 18                  2   \n",
       "\n",
       "   Vehicle_Type  Was_Vehicle_Left_Hand_Drive?  \n",
       "0             9                             1  \n",
       "1             9                             1  \n",
       "2             9                             1  \n",
       "\n",
       "[3 rows x 23 columns]"
      ]
     },
     "execution_count": 4,
     "metadata": {},
     "output_type": "execute_result"
    }
   ],
   "source": [
    "vehicles = pd.concat([pd.read_csv(f, compression='zip') for f in glob.glob('data/*Vehicles*.zip')], \n",
    "                     sort=True)\n",
    "print('Records:', vehicles.shape[0], '\\nColumns:', vehicles.shape[1])\n",
    "vehicles.head(3)"
   ]
  },
  {
   "cell_type": "markdown",
   "id": "typical-moisture",
   "metadata": {},
   "source": [
    "## 2. Preprocessing the data"
   ]
  },
  {
   "cell_type": "markdown",
   "id": "prescribed-sheep",
   "metadata": {},
   "source": [
    "#### 2.1 Data cleaning"
   ]
  },
  {
   "cell_type": "markdown",
   "id": "relevant-lightning",
   "metadata": {},
   "source": [
    "The data contain some informations that are lost, this would affect the result of prediction. I drop the variables contain more\n",
    "than 30% of missing value and the samples which contain any of missing data."
   ]
  },
  {
   "cell_type": "code",
   "execution_count": 5,
   "id": "provincial-butter",
   "metadata": {},
   "outputs": [],
   "source": [
    "# merging data\n",
    "df = pd.merge(accidents, \n",
    "              vehicles,\n",
    "              on='Accident_Index', how='inner')"
   ]
  },
  {
   "cell_type": "code",
   "execution_count": 6,
   "id": "impossible-clearing",
   "metadata": {},
   "outputs": [],
   "source": [
    "# seperate data type after the feature selection\n",
    "goal_col = ['Accident_Index', 'Accident_Severity']\n",
    "\n",
    "datetime_col = ['Date', 'Time']\n",
    "\n",
    "num_col = ['Age_of_Driver', 'Age_of_Vehicle', 'Engine_Capacity_(CC)']\n",
    "\n",
    "cat_col = ['1st_Road_Class', 'Road_Type', 'Speed_limit', 'Junction_Detail', 'Pedestrian_Crossing-Physical_Facilities',\n",
    "           'Light_Conditions', 'Urban_or_Rural_Area', 'Junction_Location', 'Sex_of_Driver', 'Vehicle_Location-Restricted_Lane',\n",
    "           'Vehicle_Manoeuvre', 'Vehicle_Type']"
   ]
  },
  {
   "cell_type": "code",
   "execution_count": 7,
   "id": "military-pottery",
   "metadata": {},
   "outputs": [
    {
     "name": "stdout",
     "output_type": "stream",
     "text": [
      "column has been dropped:  Junction_Control\n",
      "column has been dropped:  2nd_Road_Class\n",
      "column has been dropped:  Driver_IMD_Decile\n",
      "column has been dropped:  Vehicle_IMD_Decile\n",
      "(1028221, 50)\n",
      "(563225, 50)\n"
     ]
    }
   ],
   "source": [
    "# Handling missing value\n",
    "for column in df.columns:\n",
    "    missing_number = (df[column] == -1).sum()\n",
    "    sum_of_number = df[column].shape[0]\n",
    "    if (missing_number/sum_of_number) > 0.3:\n",
    "        df.drop([column], 1, inplace=True)\n",
    "        print('column has been dropped: ' ,column)\n",
    "        \n",
    "df = df.replace(-1, np.NaN)\n",
    "print(df.shape)\n",
    "df = df.dropna()\n",
    "print(df.shape)"
   ]
  },
  {
   "cell_type": "markdown",
   "id": "unsigned-watch",
   "metadata": {},
   "source": [
    "#### 2.2 handling the datetime variables"
   ]
  },
  {
   "cell_type": "markdown",
   "id": "enormous-permission",
   "metadata": {},
   "source": [
    "Convert the datetime variables into categorical variables. Beacuase the date and time data range is too large, I classify it by people's daily routines and seasons."
   ]
  },
  {
   "cell_type": "code",
   "execution_count": 8,
   "id": "automotive-packaging",
   "metadata": {},
   "outputs": [],
   "source": [
    "# dealing with datetime data\n",
    "df['Date'] = pd.to_datetime(df['Date'], format=\"%d/%m/%Y\")\n",
    "\n",
    "df['Month'] = df['Date'].dt.month\n",
    "\n",
    "df['Hour'] = df['Time'].str[0:2]\n",
    "df['Hour'] = pd.to_numeric(df['Hour'])\n",
    "df = df.dropna(subset=['Hour'])\n",
    "df['Hour'] = df['Hour'].astype('int')"
   ]
  },
  {
   "cell_type": "code",
   "execution_count": 9,
   "id": "brutal-commonwealth",
   "metadata": {},
   "outputs": [],
   "source": [
    "# define a function that turns the month into season groups\n",
    "def what_season_was_it(month):\n",
    "    if month >= 3 and month < 6:\n",
    "        return 1\n",
    "    elif month >= 6 and month < 9:\n",
    "        return 2\n",
    "    elif month >= 9 and month < 12:\n",
    "        return 3\n",
    "    else:\n",
    "        return 4\n",
    "    \n",
    "# define a function that turns the hours into daytime groups\n",
    "def when_was_it(hour):\n",
    "    if hour >= 5 and hour < 10:\n",
    "        return 1\n",
    "    elif hour >= 10 and hour < 15:\n",
    "        return 2\n",
    "    elif hour >= 15 and hour < 19:\n",
    "        return 3\n",
    "    elif hour >= 19 and hour < 23:\n",
    "        return 4\n",
    "    else:\n",
    "        return 5"
   ]
  },
  {
   "cell_type": "code",
   "execution_count": 10,
   "id": "prospective-finance",
   "metadata": {},
   "outputs": [],
   "source": [
    "# create a little dictionary to later look up the groups I created\n",
    "season_groups = {1: 'Spring: Between 3 and 5', \n",
    "                 2: 'Summer: Between 6 and 8', \n",
    "                 3: 'Fall: Between 9 and 11', \n",
    "                 4: 'Winnter: Between 12 and 2'}\n",
    " \n",
    "\n",
    "daytime_groups = {1: 'Morning: Between 5 and 9', \n",
    "                  2: 'Office Hours: Between 10 and 14', \n",
    "                  3: 'Afternoon Rush: Between 15 and 18', \n",
    "                  4: 'Evening: Between 19 and 23', \n",
    "                  5: 'Night: Between 2 and 5'}"
   ]
  },
  {
   "cell_type": "code",
   "execution_count": 11,
   "id": "suburban-cornwall",
   "metadata": {
    "scrolled": true
   },
   "outputs": [
    {
     "data": {
      "text/html": [
       "<div>\n",
       "<style scoped>\n",
       "    .dataframe tbody tr th:only-of-type {\n",
       "        vertical-align: middle;\n",
       "    }\n",
       "\n",
       "    .dataframe tbody tr th {\n",
       "        vertical-align: top;\n",
       "    }\n",
       "\n",
       "    .dataframe thead th {\n",
       "        text-align: right;\n",
       "    }\n",
       "</style>\n",
       "<table border=\"1\" class=\"dataframe\">\n",
       "  <thead>\n",
       "    <tr style=\"text-align: right;\">\n",
       "      <th></th>\n",
       "      <th>Date</th>\n",
       "      <th>Month</th>\n",
       "      <th>Season</th>\n",
       "      <th>Time</th>\n",
       "      <th>Hour</th>\n",
       "      <th>Daytime</th>\n",
       "    </tr>\n",
       "  </thead>\n",
       "  <tbody>\n",
       "    <tr>\n",
       "      <th>2</th>\n",
       "      <td>2015-01-12</td>\n",
       "      <td>1</td>\n",
       "      <td>4</td>\n",
       "      <td>18:08</td>\n",
       "      <td>18</td>\n",
       "      <td>3</td>\n",
       "    </tr>\n",
       "    <tr>\n",
       "      <th>6</th>\n",
       "      <td>2015-01-15</td>\n",
       "      <td>1</td>\n",
       "      <td>4</td>\n",
       "      <td>09:56</td>\n",
       "      <td>9</td>\n",
       "      <td>1</td>\n",
       "    </tr>\n",
       "    <tr>\n",
       "      <th>7</th>\n",
       "      <td>2015-01-15</td>\n",
       "      <td>1</td>\n",
       "      <td>4</td>\n",
       "      <td>09:56</td>\n",
       "      <td>9</td>\n",
       "      <td>1</td>\n",
       "    </tr>\n",
       "    <tr>\n",
       "      <th>8</th>\n",
       "      <td>2015-01-15</td>\n",
       "      <td>1</td>\n",
       "      <td>4</td>\n",
       "      <td>09:09</td>\n",
       "      <td>9</td>\n",
       "      <td>1</td>\n",
       "    </tr>\n",
       "    <tr>\n",
       "      <th>10</th>\n",
       "      <td>2015-01-18</td>\n",
       "      <td>1</td>\n",
       "      <td>4</td>\n",
       "      <td>15:30</td>\n",
       "      <td>15</td>\n",
       "      <td>3</td>\n",
       "    </tr>\n",
       "  </tbody>\n",
       "</table>\n",
       "</div>"
      ],
      "text/plain": [
       "         Date  Month  Season   Time  Hour  Daytime\n",
       "2  2015-01-12      1       4  18:08    18        3\n",
       "6  2015-01-15      1       4  09:56     9        1\n",
       "7  2015-01-15      1       4  09:56     9        1\n",
       "8  2015-01-15      1       4  09:09     9        1\n",
       "10 2015-01-18      1       4  15:30    15        3"
      ]
     },
     "execution_count": 11,
     "metadata": {},
     "output_type": "execute_result"
    }
   ],
   "source": [
    "# apply this function to our temporary hour column\n",
    "df['Season'] = df['Month'].apply(what_season_was_it)\n",
    "df['Daytime'] = df['Hour'].apply(when_was_it)\n",
    "df[['Date', 'Month', 'Season', 'Time', 'Hour', 'Daytime']].head()"
   ]
  },
  {
   "cell_type": "code",
   "execution_count": 12,
   "id": "answering-england",
   "metadata": {},
   "outputs": [],
   "source": [
    "# drop old time column and temporary hour column\n",
    "df = df.drop(columns=['Time', 'Hour', 'Date', 'Month'])"
   ]
  },
  {
   "cell_type": "code",
   "execution_count": 13,
   "id": "sixth-sydney",
   "metadata": {},
   "outputs": [],
   "source": [
    "# change datetime_col\n",
    "datetime_col = ['Season', 'Daytime']"
   ]
  },
  {
   "cell_type": "markdown",
   "id": "tamil-revolution",
   "metadata": {},
   "source": [
    "#### 2.3 Dropping Outlier"
   ]
  },
  {
   "cell_type": "markdown",
   "id": "heavy-visibility",
   "metadata": {},
   "source": [
    "Using boxplot to detect outlier and dropping the sample."
   ]
  },
  {
   "cell_type": "code",
   "execution_count": 14,
   "id": "together-province",
   "metadata": {},
   "outputs": [
    {
     "data": {
      "image/png": "[encoded data removed]",
      "text/plain": [
       "<Figure size 720x288 with 3 Axes>"
      ]
     },
     "metadata": {},
     "output_type": "display_data"
    }
   ],
   "source": [
    "# plotting boxplots\n",
    "sns.set(style='darkgrid')\n",
    "fig, axes = plt.subplots(3,1, figsize=(10,4))\n",
    "\n",
    "for ax, col in zip(axes, num_col):\n",
    "    df.boxplot(column=col, grid=False, vert=False, ax=ax)\n",
    "    plt.tight_layout();"
   ]
  },
  {
   "cell_type": "code",
   "execution_count": 15,
   "id": "mature-finnish",
   "metadata": {},
   "outputs": [],
   "source": [
    "# phrasing condition\n",
    "condition = (df['Engine_Capacity_(CC)'] < 20000)\n",
    "\n",
    "# keep only records that meet the condition and don't fall within extreme outliers\n",
    "df = df[condition]"
   ]
  },
  {
   "cell_type": "markdown",
   "id": "unexpected-paintball",
   "metadata": {},
   "source": [
    "#### 2.4 Handling categorical data"
   ]
  },
  {
   "cell_type": "code",
   "execution_count": 16,
   "id": "built-review",
   "metadata": {},
   "outputs": [],
   "source": [
    "# one-hot encoding for categorical data\n",
    "dummies = pd.get_dummies(df[datetime_col + cat_col].astype('category'), drop_first=True) \n",
    "\n",
    "# concatenate all the features \n",
    "features = pd.concat([df[num_col], dummies], axis=1)\n",
    "\n",
    "# define our target\n",
    "target = df[['Accident_Severity']]"
   ]
  },
  {
   "cell_type": "markdown",
   "id": "cellular-collapse",
   "metadata": {},
   "source": [
    "## 3. Training, validating, and testing model"
   ]
  },
  {
   "cell_type": "markdown",
   "id": "agreed-advantage",
   "metadata": {},
   "source": [
    "#### 3.1 Handling imbalanced data \n",
    "In this part, I found that the data wasn't balance, so I did some works to make the data balanced. "
   ]
  },
  {
   "cell_type": "code",
   "execution_count": 17,
   "id": "reverse-thought",
   "metadata": {},
   "outputs": [],
   "source": [
    "# import model tools\n",
    "from sklearn.model_selection import train_test_split\n",
    "from sklearn.tree import DecisionTreeClassifier\n",
    "from sklearn.ensemble import RandomForestClassifier\n",
    "from sklearn.metrics import classification_report, confusion_matrix\n",
    "from sklearn.model_selection import KFold, cross_validate\n",
    "from imblearn.over_sampling import SMOTE"
   ]
  },
  {
   "cell_type": "code",
   "execution_count": 18,
   "id": "suited-discussion",
   "metadata": {
    "scrolled": true
   },
   "outputs": [
    {
     "data": {
      "text/plain": [
       "3    462906\n",
       "2     92291\n",
       "1      8020\n",
       "Name: Accident_Severity, dtype: int64"
      ]
     },
     "execution_count": 18,
     "metadata": {},
     "output_type": "execute_result"
    }
   ],
   "source": [
    "df['Accident_Severity'].value_counts()"
   ]
  },
  {
   "cell_type": "code",
   "execution_count": 19,
   "id": "trained-capture",
   "metadata": {},
   "outputs": [
    {
     "name": "stdout",
     "output_type": "stream",
     "text": [
      "Before Upsampling with SMOTE:\n",
      "3    462906\n",
      "2     92291\n",
      "1      8020\n",
      "Name: Accident_Severity, dtype: int64\n",
      "\n",
      "After Upsampling with SMOTE:\n",
      "3    462906\n",
      "2    462906\n",
      "1    462906\n",
      "Name: Accident_Severity, dtype: int64\n"
     ]
    },
    {
     "data": {
      "text/plain": [
       "(None, None)"
      ]
     },
     "execution_count": 19,
     "metadata": {},
     "output_type": "execute_result"
    }
   ],
   "source": [
    "# Handling imbalanced data with SMOTE\n",
    "\n",
    "print('Before Upsampling with SMOTE:'), print(target['Accident_Severity'].value_counts())\n",
    "\n",
    "X_resampled, y_resampled = SMOTE().fit_sample(features, target)\n",
    "\n",
    "print('\\nAfter Upsampling with SMOTE:'), print(y_resampled['Accident_Severity'].value_counts())"
   ]
  },
  {
   "cell_type": "markdown",
   "id": "filled-directive",
   "metadata": {},
   "source": [
    "#### 3.2 Select model by cross validation"
   ]
  },
  {
   "cell_type": "code",
   "execution_count": 20,
   "id": "naked-botswana",
   "metadata": {},
   "outputs": [],
   "source": [
    "# split resampled data into train and test\n",
    "X_train, X_test, y_train, y_test = train_test_split(X_resampled, y_resampled, random_state=0)"
   ]
  },
  {
   "cell_type": "code",
   "execution_count": 32,
   "id": "unavailable-method",
   "metadata": {},
   "outputs": [
    {
     "name": "stdout",
     "output_type": "stream",
     "text": [
      "Classification Report DecisionTree - with Entropy and SMOTE Upsampling: \n",
      "               precision    recall  f1-score   support\n",
      "\n",
      "           1       0.94      0.96      0.95    116180\n",
      "           2       0.77      0.79      0.78    115478\n",
      "           3       0.82      0.78      0.80    115522\n",
      "\n",
      "    accuracy                           0.84    347180\n",
      "   macro avg       0.84      0.84      0.84    347180\n",
      "weighted avg       0.84      0.84      0.84    347180\n",
      "\n"
     ]
    }
   ],
   "source": [
    "# training model\n",
    "model_tree = DecisionTreeClassifier()\n",
    "model_tree.fit(X_train, y_train)\n",
    "y_test_preds = model_tree.predict(X_test)\n",
    "\n",
    "report = classification_report(y_test, y_test_preds)\n",
    "print('Classification Report DecisionTree - with Entropy and SMOTE Upsampling: \\n', report)"
   ]
  },
  {
   "cell_type": "code",
   "execution_count": 22,
   "id": "commercial-chance",
   "metadata": {
    "scrolled": true
   },
   "outputs": [],
   "source": [
    "model_tree_cro = cross_validate(model_tree, X_train, y_train, scoring='f1_macro', return_train_score=True, cv=3)"
   ]
  },
  {
   "cell_type": "code",
   "execution_count": 23,
   "id": "convenient-turning",
   "metadata": {},
   "outputs": [
    {
     "data": {
      "text/plain": [
       "{'fit_time': array([35.00040221, 36.0474689 , 37.77737594]),\n",
       " 'score_time': array([0.96884322, 1.20327306, 1.06303167]),\n",
       " 'test_score': array([0.8251621, 0.8242738, 0.8244997]),\n",
       " 'train_score': array([0.99992515, 0.99993811, 0.99993091])}"
      ]
     },
     "execution_count": 23,
     "metadata": {},
     "output_type": "execute_result"
    }
   ],
   "source": [
    "model_tree_cro"
   ]
  },
  {
   "cell_type": "code",
   "execution_count": 24,
   "id": "traditional-editor",
   "metadata": {},
   "outputs": [
    {
     "name": "stdout",
     "output_type": "stream",
     "text": [
      "Classification Report Random Forest - with Entropy and SMOTE Upsampling: \n",
      "               precision    recall  f1-score   support\n",
      "\n",
      "           1       0.97      0.98      0.98    116180\n",
      "           2       0.91      0.79      0.85    115478\n",
      "           3       0.83      0.93      0.88    115522\n",
      "\n",
      "    accuracy                           0.90    347180\n",
      "   macro avg       0.91      0.90      0.90    347180\n",
      "weighted avg       0.91      0.90      0.90    347180\n",
      "\n"
     ]
    }
   ],
   "source": [
    "# training model\n",
    "model_forest = RandomForestClassifier()\n",
    "model_forest.fit(X_train, y_train)\n",
    "y_test_preds = model_forest.predict(X_test)\n",
    "\n",
    "report = classification_report(y_test, y_test_preds)\n",
    "print('Classification Report Random Forest - with Entropy and SMOTE Upsampling: \\n', report)"
   ]
  },
  {
   "cell_type": "code",
   "execution_count": 27,
   "id": "cutting-boost",
   "metadata": {},
   "outputs": [
    {
     "data": {
      "image/png": "[encoded data removed]",
      "text/plain": [
       "<Figure size 360x360 with 1 Axes>"
      ]
     },
     "metadata": {},
     "output_type": "display_data"
    }
   ],
   "source": [
    "# create confusion matrix\n",
    "y_test_preds = model_tree.predict(X_test)\n",
    "matrix = confusion_matrix(y_test, y_test_preds, normalize='pred')\n",
    "\n",
    "# create dataframe\n",
    "class_names = df.Accident_Severity.values\n",
    "dataframe = pd.DataFrame(matrix, index=['Fatal', 'Serious', 'Slight'], \n",
    "                         columns=['Fatal', 'Serious', 'Slight'])\n",
    "\n",
    "# create heatmap\n",
    "plt.figure(figsize=(5,5))\n",
    "sns.heatmap(dataframe, annot=True, cbar=None, cmap='Blues')\n",
    "plt.title('Confusion Matrix - Decision Tree')\n",
    "plt.tight_layout(), plt.xlabel('True Values'), plt.ylabel('Predicted Values')\n",
    "\n",
    "plt.show()"
   ]
  },
  {
   "cell_type": "code",
   "execution_count": 31,
   "id": "everyday-installation",
   "metadata": {},
   "outputs": [
    {
     "data": {
      "image/png": "[encoded data removed]",
      "text/plain": [
       "<Figure size 360x360 with 1 Axes>"
      ]
     },
     "metadata": {},
     "output_type": "display_data"
    }
   ],
   "source": [
    "# create confusion matrix\n",
    "y_test_preds = model_forest.predict(X_test)\n",
    "matrix = confusion_matrix(y_test, y_test_preds, normalize='pred')\n",
    "# create dataframe\n",
    "class_names = df.Accident_Severity.values\n",
    "dataframe = pd.DataFrame(matrix, index=['Fatal', 'Serious', 'Slight'], \n",
    "                         columns=['Fatal', 'Serious', 'Slight'])\n",
    "\n",
    "# create heatmap\n",
    "plt.figure(figsize=(5,5))\n",
    "sns.heatmap(dataframe, annot=True, cbar=None, cmap='Blues')\n",
    "plt.title('Confusion Matrix - Radom Forest')\n",
    "plt.tight_layout(), plt.xlabel('True Values'), plt.ylabel('Predicted Values')\n",
    "\n",
    "plt.show()"
   ]
  },
  {
   "cell_type": "code",
   "execution_count": 26,
   "id": "later-supplement",
   "metadata": {},
   "outputs": [
    {
     "data": {
      "text/plain": [
       "Text(0.5, 0, 'Relative Feature Importance with Random Forest')"
      ]
     },
     "execution_count": 26,
     "metadata": {},
     "output_type": "execute_result"
    },
    {
     "data": {
      "image/png": "[encoded data removed]",
      "text/plain": [
       "<Figure size 720x360 with 1 Axes>"
      ]
     },
     "metadata": {},
     "output_type": "display_data"
    }
   ],
   "source": [
    "# plot the important features\n",
    "feat_importances = pd.Series(model_forest.feature_importances_, index=features.columns)\n",
    "feat_importances.nlargest(10).sort_values().plot(kind='barh', color='darkgrey', figsize=(10,5))\n",
    "plt.xlabel('Relative Feature Importance with Random Forest')"
   ]
  }
 ],
 "metadata": {
  "kernelspec": {
   "display_name": "Python 3",
   "language": "python",
   "name": "python3"
  },
  "language_info": {
   "codemirror_mode": {
    "name": "ipython",
    "version": 3
   },
   "file_extension": ".py",
   "mimetype": "text/x-python",
   "name": "python",
   "nbconvert_exporter": "python",
   "pygments_lexer": "ipython3",
   "version": "3.6.5"
  }
 },
 "nbformat": 4,
 "nbformat_minor": 5
}
